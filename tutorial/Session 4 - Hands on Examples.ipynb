{
 "cells": [
  {
   "cell_type": "markdown",
   "metadata": {},
   "source": [
    "# Session 4 - Hands on Examples\n",
    "\n",
    "<div class=\"alert alert-success\">\n",
    " \n",
    "**By the end of this session you will be able to**\n",
    "\n",
    "- Apply the code to invert a DMA response function loaded from a data file.\n",
    "- Apply the code to invert size resolved CCN data loaded from a data file.\n",
    "\n",
    "</div>\n",
    "\n",
    "\n",
    "<div class=\"alert alert-danger\">\n",
    "\n",
    "**Instructions**\n",
    "    \n",
    "- Go to Menu \"Cell\" -> \"Run All Below\"\n",
    "- The notebook will initialize all cells \n",
    "- Navigate back to this point and work through the notebook sequentially.\n",
    "- When finished, move to Session 5.\n",
    " \n",
    "</div>\n",
    "\n",
    "## 1. Inverting Size Distribution Data"
   ]
  },
  {
   "cell_type": "code",
   "execution_count": null,
   "metadata": {},
   "outputs": [],
   "source": [
    "include(\"Scripts/startup.jl\")\n",
    "play(\"Audio/examples1.ogg\")"
   ]
  },
  {
   "cell_type": "markdown",
   "metadata": {},
   "source": [
    "\n",
    "<img src=\"Figures/nbs7_f01.png\" width=\"300\" align = \"left\">\n",
    "<img src=\"Figures/example_data.png\" width=\"300\" align = \"middle\">\n",
    "<br><br>\n",
    "\n"
   ]
  },
  {
   "cell_type": "code",
   "execution_count": null,
   "metadata": {},
   "outputs": [],
   "source": [
    "# Load a simple comma delimited text file\n",
    "df = CSV.read(\"example_data.csv\", DataFrame)"
   ]
  },
  {
   "cell_type": "code",
   "execution_count": null,
   "metadata": {},
   "outputs": [],
   "source": [
    "play(\"Audio/examples2.ogg\")"
   ]
  },
  {
   "cell_type": "markdown",
   "metadata": {},
   "source": [
    "The DMA was operated at 20C and 940 hPa, with 4 L min-1 sheath flow, and 1 L min-1 sample flow. The DMA geometry is the TSI cylindrical long column, operated with a positive polarity power supply. The inversion is carried out to 6 charges. Transmission efficiency through the DMA is unity. The DMA is gridded to 120 bins and the grid is spanning the full range of the DMA's capability (10V to 10kV). Use setupSMPS instead of setupDMA if you want to use the SMPS transfer function."
   ]
  },
  {
   "cell_type": "code",
   "execution_count": null,
   "metadata": {},
   "outputs": [],
   "source": [
    "t, p, lpm = 293.15, 940e2, 1.666e-5      # Temperature [K], Pressure [Pa], L min-1 to m3 s-1\n",
    "r₁, r₂, l = 9.37e-3,1.961e-2,0.44369     # DMA geometry [m]\n",
    "Λ = DMAconfig(t,p,1lpm,4lpm,r₁,r₂,l,0.0,:+,6,:cylindrical)  "
   ]
  },
  {
   "cell_type": "code",
   "execution_count": null,
   "metadata": {},
   "outputs": [],
   "source": [
    "play(\"Audio/examples3.ogg\")"
   ]
  },
  {
   "cell_type": "code",
   "execution_count": null,
   "metadata": {},
   "outputs": [],
   "source": [
    "@time δ = setupDMA(Λ, vtoz(Λ,10000), vtoz(Λ,10), 120);"
   ]
  },
  {
   "cell_type": "markdown",
   "metadata": {},
   "source": [
    "<div class=\"alert alert-warning\">\n",
    "\n",
    "The @time macro benchmarks the grid creation. Most of the time is spent for precomputing the various inversion matrices. This is a one-time cost.\n",
    "    \n",
    "</div>\n",
    "\n",
    "\n",
    "<div class=\"alert alert-danger\">\n",
    "\n",
    "**DMPS vs. SMPS**\n",
    "    \n",
    "To use the SMPS transfer function instead of the DMPS transfer function you can setup the grid using the setupSMPS function. The function takes the arguments: DMAConfig, Vmax, Vmin, scan time, bin accumulation time.\n",
    "    \n",
    "```julia\n",
    "@time δ = setupSMPS(Λ, 10000, 10, 120, 1.0)\n",
    "```\n",
    "    \n",
    "Evaluating the matrix for the SMPS is 10 times slower than for the DMPS setup. This is because the transfer function itself is an integral. The time to perform the inversion per scan is similar for DMPS and SMPS.\n",
    "    \n",
    "</div>"
   ]
  },
  {
   "cell_type": "code",
   "execution_count": null,
   "metadata": {},
   "outputs": [],
   "source": [
    "play(\"Audio/examples4.ogg\")"
   ]
  },
  {
   "cell_type": "code",
   "execution_count": null,
   "metadata": {},
   "outputs": [],
   "source": [
    "    𝕣 = (df,:Dp,:Rcn,δ) |> interpolateDataFrameOntoδ;"
   ]
  },
  {
   "cell_type": "markdown",
   "metadata": {},
   "source": [
    "<div class=\"alert alert-warning\">\n",
    "\n",
    "This function takes the columns :Dp and :Rcn from the DataFrame df and creates a response distribution of the type SizeDistribution that matches the DMA grid thisδ. \n",
    "    \n",
    "</div>"
   ]
  },
  {
   "cell_type": "code",
   "execution_count": null,
   "metadata": {},
   "outputs": [],
   "source": [
    "play(\"Audio/examples5.ogg\")"
   ]
  },
  {
   "cell_type": "code",
   "execution_count": null,
   "metadata": {},
   "outputs": [],
   "source": [
    "𝐈, 𝐒, 𝐀, λ =  δ.𝐈, δ.𝐒, δ.𝐀, 0.5\n",
    "@time 𝕟ⁱⁿᵛ¹ = (𝐀'𝐀 + λ^2𝐈)^(-1) * (𝐀'𝕣  + λ^2 * 𝐒^(-1)*𝕣);"
   ]
  },
  {
   "cell_type": "markdown",
   "metadata": {},
   "source": [
    "<div class=\"alert alert-warning\">\n",
    "\n",
    "Compute regularized inverse with prescribed λ. This is fast. \n",
    "    \n",
    "</div>"
   ]
  },
  {
   "cell_type": "code",
   "execution_count": null,
   "metadata": {},
   "outputs": [],
   "source": [
    "play(\"Audio/examples6.ogg\")"
   ]
  },
  {
   "cell_type": "code",
   "execution_count": null,
   "metadata": {},
   "outputs": [],
   "source": [
    "@time 𝕟ⁱⁿᵛ² = rinv(𝕣.N, δ, λ₁=0.1, λ₂=1.0);"
   ]
  },
  {
   "cell_type": "markdown",
   "metadata": {},
   "source": [
    "<div class=\"alert alert-warning\">\n",
    "\n",
    "- Computing the regularized inverse using the L-curve method is slow. This is a recurring cost per inverted size distribution. \n",
    "- The inversion is forced to run on a single thread (default in julia currently is 8). For this matrix equation, increasing the number of threads will lead to performance degradation. \n",
    "- Installing the MKL library (https://github.com/JuliaComputing/MKL.jl) provides a small performance gain over OpenBLAS default that is shipped with Julia.\n",
    "    \n",
    "    \n",
    "</div>"
   ]
  },
  {
   "cell_type": "code",
   "execution_count": null,
   "metadata": {},
   "outputs": [],
   "source": [
    "play(\"Audio/examples7.ogg\")"
   ]
  },
  {
   "cell_type": "markdown",
   "metadata": {},
   "source": [
    "<div class=\"alert alert-danger\">\n",
    "\n",
    "The function rinv performs the inversion using the internal matrices. It is straightforward to use a custom matrix in the inversion. The L-curve inversion is performed in these steps\n",
    "\n",
    "- setup the system\n",
    "- run the lcorner function which finds the corner along the L-curve\n",
    "- compute the size distribution\n",
    "- create a SizeDistribution object\n",
    "    \n",
    "**Let's perform an inversion on our distribution using a custom matrix.**\n",
    "    \n",
    "</div>"
   ]
  },
  {
   "cell_type": "code",
   "execution_count": null,
   "metadata": {},
   "outputs": [],
   "source": [
    "# Transmission function for DMA without loss function - swap out functions for your own case\n",
    "T(zˢ,k,Λ,δ) = δ.Ω(Λ,δ.Z,zˢ/k).*δ.Tc(k,δ.Dp)\n",
    "\n",
    "# Transmission function for thisΛ, thisδ DMA and only using single charged particles\n",
    "my𝐀 = (hcat(map(zˢ->Σ(k->T(zˢ,k,Λ,δ),1),δ.Z)...))'\n",
    "\n",
    "setupRegularization(my𝐀,δ.𝐈,𝕣.N,inv(δ.𝐒)*𝕣.N,1)  # setup the system of equations to regularize using my𝐀\n",
    "λopt = lcorner(0.01,1.0;n=10,r=3)                    # compute the optimal λ using recursive algorithn\n",
    "N = clean((reginv(λopt, r = :Nλ))[1])                # find the inverted size distribution \n",
    "𝕟ⁱⁿᵛ³ = SizeDistribution([],δ.De,δ.Dp,δ.ΔlnD,N./δ.ΔlnD,N,:regularized);"
   ]
  },
  {
   "cell_type": "code",
   "execution_count": null,
   "metadata": {},
   "outputs": [],
   "source": [
    "play(\"Audio/examples8.ogg\")"
   ]
  },
  {
   "cell_type": "code",
   "execution_count": null,
   "metadata": {},
   "outputs": [],
   "source": [
    "include(\"Scripts/plot_data_inversion.jl\")"
   ]
  },
  {
   "cell_type": "markdown",
   "metadata": {},
   "source": [
    "**Figure.** Left: raw response function from data file. Right: results from the three inversions. Note that 𝕟ⁱⁿᵛ³ only considers singly charged particles, thus showing an overestimate.\n",
    "\n",
    "<div class=\"alert alert-success\">\n",
    "\n",
    "**You have met the following learning objective.**\n",
    "\n",
    "- Apply the code to invert a DMA response function loaded from a data file.\n",
    "    \n",
    "</div>"
   ]
  },
  {
   "cell_type": "markdown",
   "metadata": {},
   "source": [
    "## 2. Inverting Size-resolved CCN Measurements"
   ]
  },
  {
   "cell_type": "code",
   "execution_count": null,
   "metadata": {},
   "outputs": [],
   "source": [
    "play(\"Audio/examples9.ogg\")"
   ]
  },
  {
   "cell_type": "markdown",
   "metadata": {},
   "source": [
    "Size resolved CCN measurements have a long history (e.g. Cruz and Pandis, 1997, Snider et al., 2006). Particles are typically dried, charge neutralized, and passed through the DMA. At the exit, the flow is split between a CPC that measures all particles and a CCN counter that measures particles that form cloud droplets at a water supersaturation set by the instrument. In this configuration the DMA voltage can either be stepped or continuously scanned. The ratio of CCN-to-CPC response function is used to determine the fraction of particles that activate at a given diameter. The diameter where 50% of the particles activate is taken to be the activation diameter. The activation of particles into cloud droplets is proportional to the volume of solute in the particle. Therefore, larger multiply charged particles activate first. This leads to a bias in the inferred D50 diameter if the activated fraction is computed from the ratio of the raw response functions (Petters et al., 2007, 2009)\n",
    "\n",
    "### 2.1 Loading and Conditioning Data"
   ]
  },
  {
   "cell_type": "code",
   "execution_count": null,
   "metadata": {},
   "outputs": [],
   "source": [
    "play(\"Audio/examples10.ogg\")"
   ]
  },
  {
   "cell_type": "code",
   "execution_count": null,
   "metadata": {},
   "outputs": [],
   "source": [
    "# Load a simple comma delimited text file - file contains :Dp, :Rcn, :Rccn\n",
    "# Note that this is the same DMA/size distribution defined by this DMA\n",
    "df = CSV.read(\"example_data.csv\")\n",
    "𝕣ᶜⁿ = (df,:Dp,:Rcn,δ) |> interpolateDataFrameOntoδ        # CN response distribution\n",
    "𝕣ᶜᶜⁿ = (df,:Dp,:Rccn,δ) |> interpolateDataFrameOntoδ;     # CCN response distribution"
   ]
  },
  {
   "cell_type": "code",
   "execution_count": null,
   "metadata": {},
   "outputs": [],
   "source": [
    "play(\"Audio/examples11.ogg\")"
   ]
  },
  {
   "cell_type": "markdown",
   "metadata": {},
   "source": [
    "<div class=\"alert alert-danger\">\n",
    "    \n",
    "Thresholding is performed for bins with low counts, which results in NaN and Inf in 𝕒𝕗. This is necessary because at low concentrations a bin may have zero or very low concentration, resulting in unrealistic or NaN/InF values in the activated fraction array. Thus if counts/concentration is below the threshold, the activated fraction is forced to one for large diameters and zero for small diameters. The noise threshold may need to be adjusted for different datasets.\n",
    "    \n",
    "</div>"
   ]
  },
  {
   "cell_type": "code",
   "execution_count": null,
   "metadata": {},
   "outputs": [],
   "source": [
    "function threshold!(𝕟::SizeDistribution, c::Float64, n1::Float64, n2::Float64)\n",
    "   N = 𝕟.N  \n",
    "   S = 𝕟.S\n",
    "   S[(N .<= c) .& (𝕟.Dp .> 150)] .= n2\n",
    "   N[(N .<= c) .& (𝕟.Dp .> 150)] .= n2\n",
    "   S[(N .<= c) .& (𝕟.Dp .< 150)] .= n1\n",
    "   N[(N .<= c) .& (𝕟.Dp .< 150)] .= n1\n",
    "   𝕟.N = N\n",
    "end\n",
    "\n",
    "threshold!(𝕣ᶜⁿ, 0.1, 0.1, 0.1)\n",
    "threshold!(𝕣ᶜᶜⁿ, 0.1, 0.0, 0.1)\n",
    "\n",
    "𝕒𝕗 = 𝕣ᶜᶜⁿ/𝕣ᶜⁿ;"
   ]
  },
  {
   "cell_type": "code",
   "execution_count": null,
   "metadata": {},
   "outputs": [],
   "source": [
    "play(\"Audio/examples12.ogg\")"
   ]
  },
  {
   "cell_type": "code",
   "execution_count": null,
   "metadata": {},
   "outputs": [],
   "source": [
    "include(\"Scripts/plot_ccn_data.jl\")"
   ]
  },
  {
   "cell_type": "markdown",
   "metadata": {},
   "source": [
    "**Figure**. Left: Raw CN and CCN response functions. Right: activated fraction defined as the ratio of the response functions. The figure  shows  a shoulder of particles that appear to activating early. These are +2 charged particles transmitting through the DMA that influence of +2 the observed ratio 𝕣ᶜᶜⁿ./𝕣ᶜⁿ.\n",
    "\n",
    "### 2.2 Modeling the Actived Fraction"
   ]
  },
  {
   "cell_type": "code",
   "execution_count": null,
   "metadata": {},
   "outputs": [],
   "source": [
    "play(\"Audio/examples13.ogg\")"
   ]
  },
  {
   "cell_type": "markdown",
   "metadata": {},
   "source": [
    "The CCN transmission function is modeled using a cumulative Gauss integral <br>\n",
    "<center> $T_{af} = \\frac{1}{2}\\left[1 + \\mathrm{erf}\\left(\\frac{d-\\mu}{\\sigma}\\right) \\right] $ </center>\n",
    "This function is applied to the mobility size distribution. Then the response function is computed. Empirically, activated fraction can be computed using from the ratio of size distributions and response functions. "
   ]
  },
  {
   "cell_type": "code",
   "execution_count": null,
   "metadata": {},
   "outputs": [],
   "source": [
    "# CCN activation unction \n",
    "#  - 𝕟 is a size distribution from which the diameter vector is used\n",
    "#  - μ is the activation diameter\n",
    "#  - σ is the spread\n",
    "Taf(𝕟,μ,σ) = @. 0.5 * (1.0 + erf((𝕟.Dp - μ)./(sqrt(2.0σ))));"
   ]
  },
  {
   "cell_type": "code",
   "execution_count": null,
   "metadata": {},
   "outputs": [],
   "source": [
    "play(\"Audio/examples14.ogg\")"
   ]
  },
  {
   "cell_type": "markdown",
   "metadata": {},
   "source": [
    "To predict the ratio of 𝕣ᶜᶜⁿ/𝕣ᶜⁿ in terms of the activated fraction model Taf:<br><br>\n",
    "\n",
    "<center> $𝕟^{\\mathrm{cn}} = (\\bf{A}^\\rm{T}\\bf{A} + \\lambda^\\rm{2} \\bf{I})^\\rm{-1}(\\bf{A}^\\rm{T} \\rm{𝕣^{\\mathrm{cn}}} + \\lambda^2\\bf{S}^{-1} \\rm{𝕣^{\\mathrm{cn}}})$ </center>\n",
    "<br>\n",
    "<center> $\\left( \\frac{𝕣^{\\mathrm{ccn}}}{𝕣^{\\mathrm{cn}}} \\right)_{\\mathrm{model}} = \\frac{\\mathbf{A}[T_{af}\\; .*\\; 𝕟^{\\mathrm{cn}}]}{\\mathbf{A}𝕟^{\\mathrm{cn}}}$ </center>\n",
    "\n",
    "<br>\n",
    "\n",
    "This mirrors the approach in Petters et al. (2007). The model + fit can be solved in few lines of code.\n",
    "\n",
    "```julia\n",
    "𝕟ᶜⁿ = (𝐀'𝐀 + λ^2𝐈)^(-1) * (𝐀'𝕣ᶜⁿ  + λ^2 * 𝐒^(-1)*𝕣ᶜⁿ)\n",
    "model(x,p) = (δ.𝐀*(𝕟ᶜⁿ.N.*Taf(𝕟ᶜⁿ, p[1], p[2])))./(δ.𝐀*𝕟ᶜⁿ.N)\n",
    "fit = curve_fit(model, δ.Dp, 𝕣ᶜᶜⁿ.N./𝕣ᶜⁿ.N, [65.0, 3.0])\n",
    "```"
   ]
  },
  {
   "cell_type": "code",
   "execution_count": null,
   "metadata": {},
   "outputs": [],
   "source": [
    "𝐈, 𝐒, 𝐀, λ =  δ.𝐈, δ.𝐒, δ.𝐀, 0.5\n",
    "𝕟ᶜⁿ = (𝐀'𝐀 + λ^2𝐈)^(-1) * (𝐀'𝕣ᶜⁿ  + λ^2 * 𝐒^(-1)*𝕣ᶜⁿ)\n",
    "model(x,p) = (𝐀 * (𝕟ᶜⁿ.N .* Taf(𝕟ᶜⁿ, p[1], p[2])))./( 𝐀 * 𝕟ᶜⁿ.N)\n",
    "fit = curve_fit(model, 𝕒𝕗.Dp, 𝕒𝕗.N, [65.0, 3.0])\n",
    "Ax = fit.param\n",
    "afmodel = model(δ.Dp, Ax)\n",
    "DataFrame(μ=round(Ax[1],digits=1), σ=round(Ax[2],digits=1))"
   ]
  },
  {
   "cell_type": "markdown",
   "metadata": {},
   "source": [
    "<div class=\"alert alert-warning\">\n",
    "    \n",
    "The predicted activation diameter is 86.4 nm. \n",
    "    \n",
    "</div>"
   ]
  },
  {
   "cell_type": "code",
   "execution_count": null,
   "metadata": {},
   "outputs": [],
   "source": [
    "play(\"Audio/examples15.ogg\")"
   ]
  },
  {
   "cell_type": "code",
   "execution_count": null,
   "metadata": {},
   "outputs": [],
   "source": [
    "include(\"Scripts/plot_ccn_data_fit.jl\")"
   ]
  },
  {
   "cell_type": "markdown",
   "metadata": {},
   "source": [
    "**Figure**. Left: Raw CN and CCN response functions. Right: activated fraction. The afmodel accurately describes the +2 charge shoulder.\n",
    "\n",
    "<div class=\"alert alert-danger\">\n",
    "    \n",
    "- The +2 charge shoulder can in some cases be large and interfere with the measurement\n",
    "- It is also possible to fit Taf to 𝕟ᶜⁿ/𝕟ᶜᶜⁿ, where both distributions are inverted. This results in extra noise since two inversions are performed.\n",
    "- The model is only  weakly sensitive to the choice of λ. For small λ, negative values might need filtering. Use of the L-curve is not needed in most cases.\n",
    "- This example is also in a clean notebook: \"Inversion of Size Resolved CCN Data From Data Example\"\n",
    "    \n",
    "</div>\n",
    "\n",
    "<div class=\"alert alert-success\">\n",
    "\n",
    "**You have met the following learning objective.**\n",
    "\n",
    "- Apply the code to invert size resolved CCN data loaded from a data file.\n",
    "    \n",
    "</div>"
   ]
  }
 ],
 "metadata": {
  "@webio": {
   "lastCommId": null,
   "lastKernelId": null
  },
  "kernelspec": {
   "display_name": "Julia 1.4.2",
   "language": "julia",
   "name": "julia-1.4"
  },
  "language_info": {
   "file_extension": ".jl",
   "mimetype": "application/julia",
   "name": "julia",
   "version": "1.4.2"
  }
 },
 "nbformat": 4,
 "nbformat_minor": 4
}
