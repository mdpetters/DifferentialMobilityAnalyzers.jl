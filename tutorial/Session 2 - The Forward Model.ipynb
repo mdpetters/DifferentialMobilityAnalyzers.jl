{
 "cells": [
  {
   "cell_type": "markdown",
   "metadata": {},
   "source": [
    "#  Session 2 - The Forward Model\n",
    "\n",
    "<div class=\"alert alert-success\">\n",
    " \n",
    "**By the end of this session you will be able to**\n",
    "\n",
    "- Compute the moments of the output from a DMA operated at a single voltage.\n",
    "- Compute the convolution matrix for DMAs with corresponding to a custom instrument.\n",
    "- Apply the convolution matrix to compute the response function from a size distribution.\n",
    "\n",
    "</div>\n",
    "\n",
    "<div class=\"alert alert-danger\">\n",
    "\n",
    "**Instructions**\n",
    "    \n",
    "- Go to Menu \"Cell\" -> \"Run All Below\"\n",
    "- The notebook will initialize all cells \n",
    "- Navigate back to this point and work through the notebook sequentially.\n",
    "- When finished, move to Session 3.\n",
    " \n",
    "</div>\n",
    "\n",
    "\n",
    "## 1. Transmission through the DMA at Constant Voltage"
   ]
  },
  {
   "cell_type": "code",
   "execution_count": null,
   "metadata": {},
   "outputs": [],
   "source": [
    "include(\"Scripts/startup.jl\")\n",
    "play(\"Audio/dma-selection1.ogg\")"
   ]
  },
  {
   "cell_type": "markdown",
   "metadata": {},
   "source": [
    "The Figure shows a schematic instrument setup with an array of detectors. The DMA is operated in classifier mode and set to a single voltage. The mobility classified particles are then passed to one or more detectors. \n",
    "<img src=\"Figures/nbs2_f01.png\" width=\"350\" align = \"middle\">\n",
    "<figcaption><b> Figure. </b> Illustration of the combined transfer function through the DMA. </figcaption> \n",
    "\n",
    "\n",
    "<div class=\"alert alert-warning\">\n",
    "The net transmission function T describes transmission through the DMA, including the charge filter, the DMA transfer function, and the DMA transmission efficiency. \n",
    "\n",
    "```julia\n",
    "T(zˢ,k,Λ,δ) = δ.Ω(Λ,δ.Z,zˢ/k).*δ.Tc(k,δ.Dp).*δ.Tl(Λ,δ.Dp)\n",
    "```\n",
    "\n",
    "where Λ is the DMA configuration, δ the DMA grid, zˢ is the z-star selected by the DMA, and k is the number of charges. \t\n",
    "</div>\n"
   ]
  },
  {
   "cell_type": "code",
   "execution_count": null,
   "metadata": {},
   "outputs": [],
   "source": [
    "play(\"Audio/dma-selection2.ogg\")"
   ]
  },
  {
   "cell_type": "code",
   "execution_count": null,
   "metadata": {},
   "outputs": [],
   "source": [
    "# The DMA fo this session\n",
    "qsa,qsh = 1.66e-5, 8.33e-5                       # Qsample [m3 s-1], Qsheath [m3 s-1]\n",
    "t,p = 295.15, 1e5                                # Temperature [K], Pressure [Pa]\n",
    "r₁,r₂,l = 9.37e-3,1.961e-2,0.44369               # DMA geometry [m]\n",
    "Λ = DMAconfig(t,p,qsa,qsh,r₁,r₂,l,0.0,:-,6,:cylindrical)  \n",
    "\n",
    "# We need a low resolution and a high resultion grid for visualization purposes (this is slow!))\n",
    "z₁,z₂ = vtoz(Λ,10000), vtoz(Λ,10)    # bins, upper, lower mobility limit\n",
    "δ  = setupDMA(Λ, z₁, z₂, 60); \n",
    "δ1 = setupDMA(Λ, z₁, z₂, 512); "
   ]
  },
  {
   "cell_type": "code",
   "execution_count": null,
   "metadata": {},
   "outputs": [],
   "source": [
    "play(\"Audio/dma-selection3.ogg\")"
   ]
  },
  {
   "cell_type": "code",
   "execution_count": null,
   "metadata": {},
   "outputs": [],
   "source": [
    "# Define the mobility\n",
    "zˢ = dtoz(Λ, 100*1e-9)     \n",
    "\n",
    "# Define the DMA transmission function\n",
    "T(zˢ,k,Λ,δ) = δ.Ω(Λ,δ.Z,zˢ/k).*δ.Tc(k,δ.Dp).*δ.Tl(Λ,δ.Dp)\n",
    "\n",
    "# Plot the result\n",
    "plot(x = δ.Dp, y = T(zˢ,1,Λ,δ), Geom.step, Guide.xlabel(\"Apparent + 1 Mobility Diameter (nm)\"), Guide.ylabel(\"Fraction (-)\"))"
   ]
  },
  {
   "cell_type": "markdown",
   "metadata": {},
   "source": [
    "**Figure.** The shape is the transfer function, modulated by losses and charging efficiency and represented at the bin resolution of the DMA grid.\n",
    "\n",
    "The transmission function ```T(zˢ,k,Λ,δ)``` represents a vector along the DMA grid that predicts the fraction of particles carrying k charges that transmit if the DMA voltage is set to selected zˢ. It is therefore a vector that is defined along the DMA mobility/diameter grid. For our DMA defined above we had 60 bins."
   ]
  },
  {
   "cell_type": "code",
   "execution_count": null,
   "metadata": {},
   "outputs": [],
   "source": [
    "play(\"Audio/dma-selection4.ogg\")"
   ]
  },
  {
   "cell_type": "markdown",
   "metadata": {},
   "source": [
    "<div class=\"alert alert-warning\">\n",
    "    \n",
    "- zˢ is the z-star selected by the DMA\n",
    "- 𝕟ᶜⁿ is an assumed known bimodal lognormal distribution computed on the DMA size grid\n",
    "- ℕ is an array of transmitted mobility distributions carrying k charges\n",
    "- 𝕄 is an array of transmitted apparent mobility distributions carrying k charges\n",
    "- 𝕟ₜ, 𝕞ₜ are the superposition of these distributions\n",
    "</div>"
   ]
  },
  {
   "cell_type": "code",
   "execution_count": null,
   "metadata": {},
   "outputs": [],
   "source": [
    "T(zˢ,k,Λ,δ) = δ.Ω(Λ,δ.Z,zˢ/k).*δ.Tc(k,δ.Dp).*δ.Tl(Λ,δ.Dp)                   # Transmission model\n",
    "zˢ = dtoz(Λ, 100*1e-9)                                                      # Mobility for 100 nm paticles\n",
    "𝕟ᶜⁿ = DMALognormalDistribution([[900., 40., 1.5], [500., 180., 1.4]], δ1);  # Returns the size distribution \n",
    "ℕ = map(k -> T(zˢ,k,Λ,δ1)*𝕟ᶜⁿ,1:3)                                  # ℕ[k] : Mob. size distribution +k charges\n",
    "𝕄 = map(k -> (ztod(Λ,1,zˢ)/ztod(Λ,k,zˢ))⋅(T(zˢ,k,Λ,δ1)*𝕟ᶜⁿ),1:3)   # 𝕄[k] : App. Mob. distribution +k charges \n",
    "𝕟ₜ, 𝕞ₜ = sum(ℕ), sum(𝕄)\n",
    "\n",
    "include(\"Scripts/plot_transmission.jl\")"
   ]
  },
  {
   "cell_type": "markdown",
   "metadata": {},
   "source": [
    "<b> Figure. </b> Left: assumed bimodal lognormal size distribution. Middle: monodisperse mobility size distribution plotted against the apparent +1 mobility diameter, defined as the apparent setpoint diameter of the DMA. Dashed line is total number concentration. Right: same as middle panel but plotted\n",
    "versus the mobility diameter.\n",
    "\n",
    "\n",
    "The DMA selects approximately a triangular distribution around mobility centroid $z^s$. The distribution is symmetric when plotted against the log of mobility, but asymmetric when plotted against the log of the apparent +1 mobility diameter because the Cunningham slip flow correction factor applied in the conversion from mobility to diameter is a strong function of particle size. The majority of selected particles are singly charged, but the contribution of multiply charged particles to the total number is not negligible. The mobility distribution has contributions from particles that are at least twice the diameter of the selected centroid diameter. The relative fractions are determined by the equilibrium charge fraction and the number of particles available at each diameter.\n",
    "\n",
    "\n",
    "<div class=\"alert alert-danger\">\n",
    "    \n",
    "The ```map(k->f, 1:3)``` construct sequentially applies values from the array [1,2,3] to k and calls the function f. The output is an array of length 3. Since ```T(zˢ,k,Λ,δ)``` produces a vector, 𝕟ᶜⁿ is a size distribution, and vector * size distribution is a size distribution, the output of\n",
    "    \n",
    "```\n",
    "ℕ = map(k -> T(zˢ,k,Λ,δ)*𝕟ᶜⁿ,1:3) \n",
    "```\n",
    "    \n",
    "is an array of size distributions.\n",
    "</div>\n",
    "\n",
    "<div class=\"alert alert-info\">\n",
    "\n",
    "1. Predict how the number concentration of 𝕄[3] and ℕ[3] will change if the number concentration of the accumulation mode were to decrease, i.e. change from 500 cm-3 to 5 cm-3.\n",
    "\n",
    "2. Change the number concentration in the \n",
    "    ```𝕟ᶜⁿ = DMALognormalDistribution([[900., 40., 1.5], [500., 180., 1.4]], δ)```\n",
    "    statement in the cell above and rerun the cell with CTRL-Enter. Compare with your prediction.\n",
    "\n",
    "</div>\n",
    "\n",
    "## 1.2 Example Application: Calibrate a Particle into Liquid Sampler\n"
   ]
  },
  {
   "cell_type": "code",
   "execution_count": null,
   "metadata": {},
   "outputs": [],
   "source": [
    "play(\"Audio/dma-selection5.ogg\")"
   ]
  },
  {
   "cell_type": "markdown",
   "metadata": {},
   "source": [
    "<img src=\"Figures/pils.png\" width=\"300\" align = \"left\">\n",
    "\n",
    "**Figure.** Example DMA-CPC-PILS setup for calibration."
   ]
  },
  {
   "cell_type": "code",
   "execution_count": null,
   "metadata": {},
   "outputs": [],
   "source": [
    "Number(ℕ) = sum(map(𝕟 -> sum(𝕟.N), ℕ))\n",
    "Ncpc1 = sum(𝕟ₜ.N)\n",
    "Ncpc2 = Number(ℕ)\n",
    "println(Ncpc1, \"   \", Ncpc2)  # Show that the two methods produce the same result are the same"
   ]
  },
  {
   "cell_type": "markdown",
   "metadata": {},
   "source": [
    "### Naive Mass Estimate\n",
    "\n",
    "The DMA is set to select a single apparent +1 mobility size, e.g. 100 nm in the example above. If we ignore the contribution of multiply charged particles, the mass selected is \n",
    "\n",
    "$M=\\frac{\\pi}{6}D_{p}^{3}N\\rho_{p}$\n",
    "\n",
    "where $\\rho_{p}$ is the particle density. \n",
    "\n",
    "<div class=\"alert alert-warning\">\n",
    "Note that for mass calculations, if the density is $1000\\; kg\\;m^{-3} = 1\\; g\\; cm^{-3}$, the volume concentration in $\\mu m^{3}\\;cm^{-3}$ equals to the mass concentration in $\\mu g\\;m^{-3}$. This is an important conversion and explains why $\\mu m^{3}\\;cm^{-3}$ is the preferred unit for volume concentration.\n",
    "</div>"
   ]
  },
  {
   "cell_type": "code",
   "execution_count": null,
   "metadata": {},
   "outputs": [],
   "source": [
    "NaiveMass(Dp, ρp) = pi/6*Dp^3.0*sum(𝕟ₜ.N)  # Diameter in micron, and density in g cm-3\n",
    "NaiveMass(0.1, 1.77)   "
   ]
  },
  {
   "cell_type": "markdown",
   "metadata": {},
   "source": [
    "### Mass Accounting for Multiply Charged Particles\n",
    "\n",
    "To compute the correct mass we must integrate over the distributions ℕ[1], ℕ[2], ℕ[3] and so forth, as we did with number, and weigh them by Dp^3. Because of the Dp^3 weighing the contribution of +2 and +3 charged particles to selected mass can be substantial. Depending on the shape of the size distribution"
   ]
  },
  {
   "cell_type": "code",
   "execution_count": null,
   "metadata": {},
   "outputs": [],
   "source": [
    "# Diameter in micron, and density in g cm-3\n",
    "Mass(ℕ, ρp) = sum(map(𝕟 -> sum(pi ./ 6 .* (𝕟.Dp .* 1e-3).^3.0 .* 𝕟.N .* ρp), ℕ))\n",
    "\n",
    "println(\"Naive mass concentration   \", NaiveMass(0.1, 1.77))\n",
    "println(\"Correct mass concentration  \", Mass(ℕ, 1.77))"
   ]
  },
  {
   "cell_type": "markdown",
   "metadata": {},
   "source": [
    "<div class=\"alert alert-info\">\n",
    "\n",
    "1. Predict how the ratio of naive mass concentration to correct mass concentration will change if the number concentration of the accumulation mode were to decrease, i.e. change from 500 cm-3 to 5 cm-3. (Same exercise as previously.)\n",
    "\n",
    "2. Change the number concentration in the \n",
    "    ```𝕟ᶜⁿ = DMALognormalDistribution([[900., 40., 1.5], [500., 180., 1.4]], δ)```\n",
    "statement in the cell above and rerun all of the cells with CTRL-Enter. Compare with your prediction.\n",
    "\n",
    "</div>\n",
    "    \n",
    "<div class=\"alert alert-success\">\n",
    "\n",
    "**You have met the following learning objective:**\n",
    "    \n",
    "- Compute the moments of output from a DMA operated at a single voltage.\n",
    "    \n",
    "</div>"
   ]
  },
  {
   "cell_type": "markdown",
   "metadata": {},
   "source": [
    "## 2. The Fredholm Integral Equation"
   ]
  },
  {
   "cell_type": "code",
   "execution_count": null,
   "metadata": {},
   "outputs": [],
   "source": [
    "play(\"Audio/fredholm1.ogg\")"
   ]
  },
  {
   "cell_type": "markdown",
   "metadata": {},
   "source": [
    "As worked out above, the net transmission function T describes transmission through the DMA, including the charge filter, the DMA transfer function, and the DMA transmission efficiency. \n",
    "\n",
    "```julia\n",
    "T(zˢ,k,Λ,δ) = δ.Ω(Λ,δ.Z,zˢ/k).*δ.Tc(k,δ.Dp).*δ.Tl(Λ,δ.Dp)\n",
    "```\n",
    "\n",
    "Defining a zˢ and evaluating for all charges and integrating over size yields the total number concentration measured by the CPC. \n",
    "\n",
    "```julia\n",
    "zˢ = dtoz(Λ, 100*1e-9) \n",
    "ℕ = map(k -> T(zˢ,k,Λ,δ1)*𝕟ᶜⁿ,1:k)\n",
    "𝕟ₜ = sum(ℕ)\n",
    "Ncpc = sum(𝕟ₜ.N)\n",
    "```"
   ]
  },
  {
   "cell_type": "code",
   "execution_count": null,
   "metadata": {},
   "outputs": [],
   "source": [
    "play(\"Audio/fredholm2.ogg\")"
   ]
  },
  {
   "cell_type": "markdown",
   "metadata": {},
   "source": [
    "Formally, the response in channel i (corresponding to a transmission through the DMA at a single voltage) is given by the Fredholm convolution integral \n",
    "\n",
    " <center> $ R_i = \\int_{z_a}^{z_b} \\sum_{k=1}^m \\Omega(z,Z_{i,k}^s)T_c(D[z,1])T_l(D[z,1])\\frac{dN}{d\\ln D}\\frac{d \\ln D}{dz}dz \\;\\;\\;\\;\\;\\;\\ i = 1,2...,n$   </center>\n",
    " \n",
    "The integral is performed over the limits $z_a$ and $z_b$, which corresponds to the upper and lower mobility limit set by the voltage range used to operate the DMA. The function $\\frac{dN}{d\\ln D}\\frac{d\\ln D}{dz}dz$ evaluates to the number concentration of particles that lie in the interval $[z,z + dz]$. Note that $D[z,1]$ is used in the charge filter and loss function since the integral is applied over the transform of the selected centroid mobility $Z_{i,k}^s$ (see above). $Z$ is the mobility vector of the grid and the subscript $i$ denotes the response channel. "
   ]
  },
  {
   "cell_type": "code",
   "execution_count": null,
   "metadata": {},
   "outputs": [],
   "source": [
    "play(\"Audio/fredholm3.ogg\")"
   ]
  },
  {
   "cell_type": "markdown",
   "metadata": {},
   "source": [
    "The convolution integral can be discretized:  <br><br>\n",
    "\n",
    " <center> $ R_i = \\sum_{j=1}^n \\left [ \\sum_{k=1}^m \\Omega(Z_j,Z_{i,k}^s)T_c(D[Z_j,1])T_l(D[Z_j,1])N(Z_j) \\right] $</center> <br>\n",
    "\n",
    "$N(Z_j)$ is the the number concentration of particles in the $j^{th}$ bin, $i = 1...n$\n",
    "are indices the observed instrument channel, $j = 1...n$ are indices of the physical size bins, and $k = 1...m$ are indices of charges carried by the particle. Here it is assumed that $\\Omega(Z_j,Z_{i,k}^s)$ can be approximated being constant over the bin $[Ze_{j},Ze_{j+1}]$, which is only true if a sufficiently large number of size bins is used. The discretized version represents a set of $n$ equations that can be written in matrix form <br><br>\n",
    "\n",
    "<center> \n",
    "$ \\begin{bmatrix}\n",
    "       R_1    \\\\\n",
    "       \\vdots \\\\        \n",
    "       R_n\n",
    "\\end{bmatrix} =\n",
    "\\begin{pmatrix}\n",
    "  \\sum_{k=1}^m \\Omega(Z_1,Z_{1,k}^s)T_c(D[Z_1,1])T_l(D[Z_1,1])  & \\cdots & \\sum_{k=1}^m \\Omega(Z_n,Z_{1,k}^s)T_c(D[Z_n,1])T_l(D[Z_n,1]) \\\\\n",
    "  \\vdots  & \\ddots  & \\vdots  \\\\\n",
    "  \\sum_{k=1}^m \\Omega(Z_1,Z_{n,k}^s)T_c(D[Z_1,1])T_l(D[Z_1,1])  & \\cdots & \\sum_{k=1}^m \\Omega(Z_n,Z_{n,k}^s)T_c(D[Z_n,1])T_l(D[Z_n,1])  \n",
    "\\end{pmatrix}\n",
    "\\begin{bmatrix}\n",
    "       N_1    \\\\[0.3em]\n",
    "       \\vdots \\\\[0.3em]        \n",
    "       N_n\n",
    "\\end{bmatrix}\n",
    "$</center> <br><br>\n",
    "\n",
    "\n",
    "\n",
    "<div class=\"alert alert-warning\">\n",
    "\n",
    "The discrete version of the Fredholm equation can thus be cast as the following\n",
    "    \n",
    "   <center> $R = \\mathbf{A}N$ </center>\n",
    "\n",
    "where $R$ is the response vector, $\\mathbf{A}$ is the convolution matrix, and $N$ is the discretized true number concentration.\n",
    "</div>\n",
    "\n",
    "\n",
    "\n",
    "<div class=\"alert alert-danger\">\n",
    "    \n",
    "    \n",
    "Note how the terms comprising the convolution matrix \n",
    "    \n",
    "   <center> $ \\Omega(Z_1,Z_{1,k}^s)T_c(D[Z_1,1])T_l(D[Z_1,1]) $ </center>\n",
    "    \n",
    "are the transmission function defined in code\n",
    "    \n",
    "```julia\n",
    "T(zˢ,k,Λ,δ) = δ.Ω(Λ,δ.Z,zˢ/k).*δ.Tc(k,δ.Dp).*δ.Tl(Λ,δ.Dp)\n",
    "```\n",
    "</div>"
   ]
  },
  {
   "cell_type": "code",
   "execution_count": null,
   "metadata": {},
   "outputs": [],
   "source": [
    "play(\"Audio/fredholm4.ogg\")"
   ]
  },
  {
   "cell_type": "markdown",
   "metadata": {},
   "source": [
    "<div class=\"alert alert-warning\">\n",
    "\n",
    "**Generic solution to solve for the convolution matrix**\n",
    "    \n",
    "The convolution matrix is of size $n\\times n$, where $n$ is the number of bins. It can be computed via the following expression (Petters, 2018):\n",
    "\n",
    "```julia\n",
    "T(zˢ,k,Λ,δ) = δ.Ω(Λ,δ.Z,zˢ/k).*δ.Tc(k,δ.Dp).*δ.Tl(Λ,δ.Dp)\n",
    "𝐀 = (hcat(map(zˢ->Σ(k->T(zˢ,k,Λ,δ),Λ.m),δ.Z)...))'\n",
    "```\n",
    "</div>\n"
   ]
  },
  {
   "cell_type": "code",
   "execution_count": null,
   "metadata": {},
   "outputs": [],
   "source": [
    "T(zˢ,k,Λ,δ) = δ.Ω(Λ,δ.Z,zˢ/k).*δ.Tc(k,δ.Dp).*δ.Tl(Λ,δ.Dp)\n",
    "𝐀 = (hcat(map(zˢ->Σ(k->T(zˢ,k,Λ,δ),Λ.m),δ.Z)...))'"
   ]
  },
  {
   "cell_type": "markdown",
   "metadata": {},
   "source": [
    "<div class=\"alert alert-info\">\n",
    "\n",
    "Write an expression that computes the convolution matrix for your DMA, defined as myΛ and myδ.\n",
    "\n",
    "</div>"
   ]
  },
  {
   "cell_type": "code",
   "execution_count": null,
   "metadata": {},
   "outputs": [],
   "source": []
  },
  {
   "cell_type": "markdown",
   "metadata": {},
   "source": [
    "Note that you can not only define your own instrument configuration, but also change the convolution terms. For example, you can omit the charge filter, you can omit the transmission function through the DMA. In practice, these are just short computer functions and you can replace them with your own as needed. For example you swap out the transfer function to a custom version, or add a function that describes the detector efficiency.\n",
    "\n",
    "<div class=\"alert alert-info\">\n",
    "\n",
    "Write and expression that computes the convolution matrix for your DMA, defined as myΛ and myδ, but without accounting for transmission efficiency through the DMA.\n",
    "\n",
    "</div>"
   ]
  },
  {
   "cell_type": "code",
   "execution_count": null,
   "metadata": {},
   "outputs": [],
   "source": []
  },
  {
   "cell_type": "markdown",
   "metadata": {},
   "source": [
    "<div class=\"alert alert-success\">\n",
    "\n",
    "**You have met the following learning objective:**\n",
    "    \n",
    "- Compute the convolution matrix for DMAs with corresponding to a custom instrument.\n",
    "    \n",
    "</div>"
   ]
  },
  {
   "cell_type": "code",
   "execution_count": null,
   "metadata": {},
   "outputs": [],
   "source": [
    "play(\"Audio/fredholm5.ogg\")"
   ]
  },
  {
   "cell_type": "markdown",
   "metadata": {},
   "source": [
    "The response function can be computed from the convolution matrix and the known true size distribution\n",
    "\n",
    "<img src=\"Figures/nbs2_f02.png\" width=\"750\" align = \"middle\">\n",
    "<b> Figure. </b> Convolution of true size distribution resulting in the response vector. <br> <br>\n",
    "\n",
    "<div class=\"alert alert-warning\">\n",
    "\n",
    "In the section on size distribution arithmetic I included the operation matrix * size distribution. Thus we can conveniently write \n",
    "\n",
    "𝕣 = 𝐀 * 𝕟\n",
    "\n",
    "to compute the response function\n",
    "    \n",
    "</div>\n"
   ]
  },
  {
   "cell_type": "code",
   "execution_count": null,
   "metadata": {},
   "outputs": [],
   "source": [
    "# Here is a simple example\n",
    "𝕟 = DMALognormalDistribution([[400, 30, 1.2],[500, 110, 1.7]], δ)\n",
    "𝕣 = 𝐀 * 𝕟\n",
    "\n",
    "include(\"Scripts/plot_response_function.jl\")"
   ]
  },
  {
   "cell_type": "markdown",
   "metadata": {},
   "source": [
    "<div class=\"alert alert-success\">\n",
    "\n",
    "**You have met the following learning objective:**\n",
    "    \n",
    "- Apply the convolution matrix to compute the response function from a size distribution.\n",
    "    \n",
    "</div>\n"
   ]
  }
 ],
 "metadata": {
  "@webio": {
   "lastCommId": null,
   "lastKernelId": null
  },
  "kernelspec": {
   "display_name": "Julia 1.4.2",
   "language": "julia",
   "name": "julia-1.4"
  },
  "language_info": {
   "file_extension": ".jl",
   "mimetype": "application/julia",
   "name": "julia",
   "version": "1.4.2"
  }
 },
 "nbformat": 4,
 "nbformat_minor": 4
}
