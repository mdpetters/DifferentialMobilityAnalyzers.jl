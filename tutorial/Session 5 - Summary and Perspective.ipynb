{
 "cells": [
  {
   "cell_type": "markdown",
   "metadata": {},
   "source": [
    "# Session 5 - Summary and Perspective\n",
    "\n",
    "\n",
    "<div class=\"alert alert-danger\">\n",
    "\n",
    "**Instructions**\n",
    "    \n",
    "- Go to Menu \"Cell\" -> \"Run All Below\"\n",
    "- The notebook will initialize all cells \n",
    "- Navigate back to this point and work through the notebook sequentially.\n",
    " \n",
    "</div>\n",
    "\n",
    "## 1. Summary and Perspective"
   ]
  },
  {
   "cell_type": "code",
   "execution_count": null,
   "metadata": {},
   "outputs": [],
   "source": [
    "include(\"Scripts/startup.jl\")\n",
    "display(\"https://www.youtube.com/watch?v=AqnH_Dv6qfY\"; res = :480)"
   ]
  },
  {
   "cell_type": "markdown",
   "metadata": {},
   "source": [
    "## 2. Epilog\n",
    "### 2.1 Software and Tutorial Access\n"
   ]
  },
  {
   "cell_type": "code",
   "execution_count": null,
   "metadata": {},
   "outputs": [],
   "source": [
    "play(\"Audio/docker.ogg\")"
   ]
  },
  {
   "cell_type": "markdown",
   "metadata": {},
   "source": [
    "<div class=\"alert alert-danger\">\n",
    "Users new to julia should run this tutorial through Docker/DockerHub. This ensures low latency and a simple install process. \n",
    "</div>\n",
    "\n",
    "You can run the tutorial on your own hardware using Docker. Install the docker engine from https://docs.docker.com/get-docker/. Then run the tutorial using the following command\n",
    "\n",
    "```bash\n",
    "docker run -it -p 8888:8888 mdpetters/data-inversion-tutorial:v2009\n",
    "```\n",
    "\n",
    "\n",
    "\n",
    "<div class=\"alert alert-warning\">\n",
    "\n",
    "**The source code is freely available via the GPLv3 License and Open Access publication**\n",
    "    \n",
    "This source code for the data inversion tutorial is available through GitHub. The code is built upon the package DifferentialMobilityAnalyzers.jl which is described in the linked AS&T manuscript.\n",
    "    \n",
    "- Tutorial: https://github.com/mdpetters/Data-Inversion-Tutorial\n",
    "- DMA Inversion Code: https://github.com/mdpetters/DifferentialMobilityAnalyzers.jl\n",
    "- Manuscript: https://www.tandfonline.com/doi/full/10.1080/02786826.2018.1530724\n",
    "- SMPS Data Acquisition: https://github.com/mdpetters/Julia-SMPS-IM\n",
    "\n",
    "        \n",
    "</div>\n",
    "\n",
    "<div class=\"alert alert-warning\">\n",
    "\n",
    "The docker image is immutable and changes after a session are discarded. You can link a directory ```$DIR``` (e.g. /home/username/myfiles) to the docker image. It will appear in the \"work\" directory when you start the Jupyter notebook. The ```$DIR``` directory must have open read/write permissions since the docker user name differs from yours. Once setup you can use the docker image and make changes in your local directory.\n",
    "\n",
    "```bash\n",
    "docker run -it --rm -p 8888:8888 -v $DIR:/home/jovyan/user mdpetters/data-inversion-tutorial:v2009       \n",
    "```\n",
    "</div>\n",
    "\n"
   ]
  },
  {
   "cell_type": "markdown",
   "metadata": {},
   "source": [
    "### 2.2 Atmospheric Physics Notebooks"
   ]
  },
  {
   "cell_type": "code",
   "execution_count": null,
   "metadata": {},
   "outputs": [],
   "source": [
    "play(\"Audio/atmospheric-physics.ogg\")"
   ]
  },
  {
   "cell_type": "markdown",
   "metadata": {},
   "source": [
    "If you enjoyed this tutorial you might also be interested in the Atmospheric-Physics-Notebooks project. Briefly, the project makes use of the architecture employed here, i.e. Jupyter notebooks served via JupyterHub/Docker for teaching with the help of interactive applets. The notebooks contain a significant amount of aerosol related instructional content that may be useful for teaching aerosol concepts. \n",
    "\n",
    "Website: https://mdpetters.github.io/Atmospheric-Physics-Notebooks/dev/content/\n",
    "GitHub: https://github.com/mdpetters/Atmospheric-Physics-Notebooks\n",
    "\n",
    "A docker image to run these notebooks is available \n",
    "\n",
    "```bash\n",
    "docker run -it -p 8888:8888 mdpetters/atmospheric-physics-notebooks:v2008\n",
    "```\n",
    "\n",
    "<div class=\"alert alert-success\">\n",
    "\n",
    "**Abstract**\n",
    "    \n",
    "Student-centered active learning pedagogies improve learning outcomes and increase the engagement of underrepresented groups. Implementing such pedagogies requires interactive tools for students to manipulate inputs and use the outputs to construct knowledge. This work introduces interactive worksheets for teaching about atmospheric aerosol and cloud physics and describes the toolchain to create and deliver the content. The material is appropriate for upper-level undergraduate and graduate instruction with pedagogy based on process-oriented guided inquiry learning. Students playfully interact with physical relationships and atmospheric models. Two examples are the interaction with an aerosol-cloud parcel model for simulating the early stage of cloud formation and the interaction with the Bowen model for simulating the formation of rain by coalescence. Photos, text, figures, and software associated with the project are free to be shared and free to be adapted. In addition to focusing on discipline-based learning objectives, the worksheets emphasize interacting with real-world data and practicing graph comprehension. Hosting the content in the cloud ensures reliable and scalable delivery to any device with a browser and internet access. The worksheets are designed to be used in a student-centered active learning classroom but can also be used in an online setting.\n",
    "</div>"
   ]
  },
  {
   "cell_type": "markdown",
   "metadata": {},
   "source": [
    "## 3. References\n",
    "\n",
    "Cruz, C. N. and S. N. Pandis (1997). A study of the ability of pure secondary organic aerosol to act as cloud condensation nuclei. Atmospheric Environment 31, 2205–2214, DOI:10.1016/S1352-2310(97)00054-X.\n",
    "\n",
    "Hansen, P. C. (2000) The L-Curve and its Use in the Numerical Treatment of Inverse Problems, in Computational Inverse Problems in Electrocardiology, ed. P. Johnston, Advances in Computational Bioengineering, 119-142, WIT Press. <br> \n",
    "\n",
    "Hagwood, C. (1999) The DMA Transfer Function with Brownian\n",
    "Motion a Trajectory/Monte-Carlo Approach, Aerosol Science & Technology, 30:1, 40-61, DOI:10.1080/027868299304877.\n",
    "\n",
    "Hinds, W. C. (1999) Aerosol Technology, Properties, Behavior, and Measurement of Airborne Particles, Second Edition, John Wiley & Sons, Inc.\n",
    "\n",
    "Kandlikar, M., & Ramachandran, G. (1999) Inverse methods for analysing aerosol spectrometer measurements: A critical review. Journal of Aerosol Science, 30(4), 413-437, DOI:10.1016/S0021-8502(98)00066-4. <br>\n",
    "\n",
    "Knutson, E. O. & K. T. Whitby (1975) Aerosol classification by electric mobility:\n",
    "Apparatus, theory, and applications. J. Aerosol Sci. (6)443-451, DOI:10.1016/0021-8502(75)90060-9.\n",
    "\n",
    "Park, D. Dutcher, M. Emery, J. Pagels, H. Sakurai, J. Scheckman, S. Qian, M. R. Stolzenburg, X. Wang, J. Yang & P. H. McMurry (2008) Tandem Measurements of Aerosol Properties—A Review of Mobility Techniques with Extensions, Aerosol Science and Technology, 42:10, 801-816, DOI:10.1080/02786820802339561.\n",
    "\n",
    "Snider, J. R., M. D. Petters, P. Wechsler, and P. S. K. Liu, (2006), Supersaturation in the Wyoming CCN instrument, Journal Atmospheric Oceanic Technology, 23, 1323-1339, doi:10.1175/JTECH1916.1. \n",
    "\n",
    "Sipkens, T. A., Olfert, J. S., & Rogak, S. N. (2020). Inversion methods to determine two-dimensional aerosol mass-mobility distributions: A critical comparison of established methods. J. Aerosol Sci. 140, 105484.\n",
    "\n",
    "Petters, M. D., A. J. Prenni, S. M. Kreidenweis, P. J. DeMott (2007) On measuring the critical diameter of cloud condensation nuclei using mobility selected aerosol, Aerosol Science & Technology, 41(10), 907-913, doi:10.1080/02786820701557214.\n",
    "\n",
    "Petters, M. D., C. M. Carrico, S. M. Kreidenweis, A. J. Prenni, P. J. DeMott, J. R. Collett Jr., and H. Moosmüller (2009) Cloud condensation nucleation ability of biomass burning aerosol, Journal Geophysical Research, 114, D22205, doi:10.1029/2009JD012353.\n",
    "\n",
    "Petters, M. D. (2018) A language to simplify computation of differential mobility analyzer response functions, Aerosol Science & Technology, 52:12, 1437-1451, DOI:10.1080/02786826.2018.1530724. \n",
    "\n",
    "Reineking A. & J. Porstendörfer (1986) Measurements of Particle Loss Functions in a Differential Mobility Analyzer (TSI, Model 3071) for Different Flow Rates, Aerosol Science and Technology, 5:4, 483-486, DOI:10.1080/02786828608959112\n",
    "\n",
    "Rader, D.J. and P.H. McMurry (1986) Application of the tandem differential mobility analyzer to studies of droplet growth or evaporation,Journal of Aerosol Science, 17(5), 771-787,DOI:10.1016/0021-8502(86)90031-5.\n",
    "\n",
    "Stolzenburg, M. R. & P. H. McMurry (2008) Equations Governing Single and Tandem DMA Configurations and a New Lognormal Approximation to the Transfer Function, Aerosol Science and Technology, 42:6, 421-432, DOI:10.1080/02786820802157823.\n",
    "\n",
    "Talukdar, Suddha S. & Mark T. Swihart (2003) An Improved Data Inversion Program for Obtaining Aerosol Size Distributions from Scanning Differential Mobility Analyzer Data, Aerosol Science and Technology, 37:2, 145-161, DOI:10.1080/02786820300952. <br>\n",
    "\n",
    "TSI Inc. (2009) Series 3080 Electrostatic Classifiers. Operation and Service Manual, P/N 1933792, Revision J March 2009. \n",
    "\n",
    "Twomey, S. (1963) On the numerical solution of Fredholm integral equations of the first kind by inversion of the linear system produced by quadrature, Journal of the ACM, 19(1963), 97–101, DOI:0.1145/321150.321157. <br>\n",
    "\n",
    "Wang, S. C. and Flagan, R. C. (1990). Scanning electrical mobility spectrometer.\n",
    "Aerosol Science and Technology, 13:2, 230–240.\n",
    "\n",
    "Wiedensohler, A. (1988) An approximation of the bipolar charge distribution for particles in the submicron size range, Journal of Aerosol Science, 19:3, 387-389, DOI:10.1016/0021-8502(88)90278-9."
   ]
  }
 ],
 "metadata": {
  "@webio": {
   "lastCommId": null,
   "lastKernelId": null
  },
  "kernelspec": {
   "display_name": "Julia 1.4.2",
   "language": "julia",
   "name": "julia-1.4"
  },
  "language_info": {
   "file_extension": ".jl",
   "mimetype": "application/julia",
   "name": "julia",
   "version": "1.4.2"
  }
 },
 "nbformat": 4,
 "nbformat_minor": 4
}
