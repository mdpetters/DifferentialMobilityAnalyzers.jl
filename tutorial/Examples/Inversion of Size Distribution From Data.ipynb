{
 "cells": [
  {
   "cell_type": "markdown",
   "metadata": {},
   "source": [
    "# Inversion of Size Distribution From Data \n",
    "\n",
    "<div class=\"alert alert-warning\">\n",
    "\n",
    "Code is based on Session 4 in the tutorial. This script demonstrates how to use the code in a standalone program.\n",
    "    \n",
    "</div>\n"
   ]
  },
  {
   "cell_type": "code",
   "execution_count": null,
   "metadata": {},
   "outputs": [],
   "source": [
    "using DifferentialMobilityAnalyzers, CSV, Gadfly, DataFrames, Printf\n",
    "\n",
    "# Load a simple comma delimited text file\n",
    "df = CSV.read(\"example_data.csv\", DataFrame)\n",
    "\n",
    "# Setup the DMA\n",
    "t, p, lpm = 293.15, 940e2, 1.666e-5      # Temperature [K], Pressure [Pa], L min-1 to m3 s-1\n",
    "r₁, r₂, l = 9.37e-3,1.961e-2,0.44369     # DMA geometry [m]\n",
    "Λ = DMAconfig(t,p,1lpm,4lpm,r₁,r₂,l,0.0,:+,6,:cylindrical)  \n",
    "δ = setupDMA(Λ, vtoz(Λ,10000), vtoz(Λ,10), 120)\n",
    "\n",
    "# Interpolate the data onto the DMA grid\n",
    "𝕣 = (df,:Dp,:Rcn,δ) |> interpolateDataFrameOntoδ\n",
    "\n",
    "# Fast inversion with prescribed λ\n",
    "𝐈, 𝐒, 𝐀, λ =  δ.𝐈, δ.𝐒, δ.𝐀, 0.5\n",
    "𝕟ⁱⁿᵛ¹ = (𝐀'𝐀 + λ^2𝐈)^(-1) * (𝐀'𝕣  + λ^2 * 𝐒^(-1)*𝕣)\n",
    "\n",
    "# Slow inversion using λopt from the L-curve method\n",
    "𝕟ⁱⁿᵛ² = rinv(𝕣.N, δ,λ₁=0.1,λ₂=1.0)"
   ]
  },
  {
   "cell_type": "markdown",
   "metadata": {},
   "source": [
    "## Plot the inverted data"
   ]
  },
  {
   "cell_type": "code",
   "execution_count": null,
   "metadata": {},
   "outputs": [],
   "source": [
    "df1 = DataFrame(Dp = 𝕟ⁱⁿᵛ¹.Dp, S = 𝕟ⁱⁿᵛ¹.S, Dist = [\"𝕟ⁱⁿᵛ¹\" for i = 1:length(𝕟ⁱⁿᵛ¹.Dp)])\n",
    "df2 = DataFrame(Dp = 𝕟ⁱⁿᵛ².Dp, S = 𝕟ⁱⁿᵛ².S, Dist = [\"𝕟ⁱⁿᵛ²\" for i = 1:length(𝕟ⁱⁿᵛ².Dp)])\n",
    "df = [df1;df2]\n",
    "  \n",
    "xlabels = log10.([10, 100, 500])\n",
    "colors = [\"darkred\", \"steelblue3\", \"black\"]\n",
    "p2 = plot(\n",
    "    df,\n",
    "    x = :Dp,\n",
    "    y = :S,\n",
    "    color = :Dist,\n",
    "    Geom.step,\n",
    "    Guide.xlabel(\"Particle diameter (nm)\"),\n",
    "    Guide.ylabel(\"dN/dlnD (cm-3)\"),\n",
    "    Guide.xticks(ticks = log10.([10:10:90;100:100:500])),\n",
    "    Guide.colorkey(; title = \"\"),\n",
    "    Scale.x_log10(labels = x -> x in xlabels ? @sprintf(\"%2i\", exp10(x)) : \"\"),\n",
    "    Scale.color_discrete_manual(colors...),\n",
    "    Coord.cartesian(xmin = log10(10), xmax = log10(500), ymin = 0)\n",
    ")"
   ]
  }
 ],
 "metadata": {
  "@webio": {
   "lastCommId": null,
   "lastKernelId": null
  },
  "kernelspec": {
   "display_name": "Julia 1.4.2",
   "language": "julia",
   "name": "julia-1.4"
  },
  "language_info": {
   "file_extension": ".jl",
   "mimetype": "application/julia",
   "name": "julia",
   "version": "1.4.2"
  }
 },
 "nbformat": 4,
 "nbformat_minor": 4
}
