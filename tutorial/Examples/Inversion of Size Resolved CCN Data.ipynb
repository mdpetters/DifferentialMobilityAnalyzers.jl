{
 "cells": [
  {
   "cell_type": "markdown",
   "metadata": {},
   "source": [
    "# Inversion of Size-Resolved CCN Data \n",
    "\n",
    "<div class=\"alert alert-warning\">\n",
    "\n",
    "Code is based on Session 4 in the tutorial. This script demonstrates how to use the code in a standalone program.\n",
    "    \n",
    "</div>\n"
   ]
  },
  {
   "cell_type": "code",
   "execution_count": null,
   "metadata": {},
   "outputs": [],
   "source": [
    "using DifferentialMobilityAnalyzers, CSV, Gadfly, DataFrames, Printf, LsqFit, SpecialFunctions\n",
    "\n",
    "# Load a simple comma delimited text file\n",
    "df = CSV.read(\"example_data.csv\")\n",
    "\n",
    "# Setup the DMA\n",
    "t, p, lpm = 293.15, 940e2, 1.666e-5      # Temperature [K], Pressure [Pa], L min-1 to m3 s-1\n",
    "r₁, r₂, l = 9.37e-3,1.961e-2,0.44369     # DMA geometry [m]\n",
    "Λ = DMAconfig(t,p,1lpm,4lpm,r₁,r₂,l,0.0,:+,6,:cylindrical)  \n",
    "δ = setupDMA(Λ, vtoz(Λ,10000), vtoz(Λ,10), 120)\n",
    "\n",
    "# Interpolate the data onto the DMA grid\n",
    "𝕣ᶜⁿ = (df,:Dp,:Rcn,δ) |> interpolateDataFrameOntoδ       # CN response distribution\n",
    "𝕣ᶜᶜⁿ = (df,:Dp,:Rccn,δ) |> interpolateDataFrameOntoδ     # CCN response distribution\n",
    "\n",
    "# Threshold the data to avoid InF and NaN\n",
    "function threshold!(𝕟::SizeDistribution, c::Float64, n1::Float64, n2::Float64)\n",
    "   N = 𝕟.N  \n",
    "   S = 𝕟.S\n",
    "   S[(N .<= c) .& (𝕟.Dp .> 150)] .= n2\n",
    "   N[(N .<= c) .& (𝕟.Dp .> 150)] .= n2\n",
    "   S[(N .<= c) .& (𝕟.Dp .< 150)] .= n1\n",
    "   N[(N .<= c) .& (𝕟.Dp .< 150)] .= n1\n",
    "   𝕟.N = N\n",
    "end\n",
    "\n",
    "threshold!(𝕣ᶜⁿ, 0.1, 0.1, 0.1)\n",
    "threshold!(𝕣ᶜᶜⁿ, 0.1, 0.0, 0.1)\n",
    "\n",
    "# Compute the activated fraction\n",
    "𝕒𝕗 = 𝕣ᶜᶜⁿ/𝕣ᶜⁿ\n",
    "\n",
    "# Activated fraction model\n",
    "Taf(𝕟,μ,σ) = @. 0.5 * (1.0 + erf((𝕟.Dp - μ)./(sqrt(2.0σ))))\n",
    "\n",
    "# Multiply charged activation model\n",
    "𝐈, 𝐒, 𝐀, λ =  δ.𝐈, δ.𝐒, δ.𝐀, 0.5\n",
    "𝕟ᶜⁿ = (𝐀'𝐀 + λ^2𝐈)^(-1) * (𝐀'𝕣ᶜⁿ  + λ^2 * 𝐒^(-1)*𝕣ᶜⁿ)\n",
    "model(x,p) = (𝐀 * (𝕟ᶜⁿ.N .* Taf(𝕟ᶜⁿ, p[1], p[2])))./(𝐀 * 𝕟ᶜⁿ.N)\n",
    "\n",
    "# Fit the data with an initial guess\n",
    "fit = curve_fit(model, 𝕒𝕗.Dp, 𝕒𝕗.N, [65.0, 3.0])\n",
    "Ax = fit.param\n",
    "\n",
    "# Compute the activated fraction model\n",
    "afmodel = model(δ.Dp, Ax);"
   ]
  },
  {
   "cell_type": "markdown",
   "metadata": {},
   "source": [
    "## Plot the  data"
   ]
  },
  {
   "cell_type": "code",
   "execution_count": null,
   "metadata": {},
   "outputs": [],
   "source": [
    "df1 = DataFrame(Dp = 𝕒𝕗.Dp, S = 𝕒𝕗.N, Dist = [\"𝕒𝕗 (data)\" for i = 1:length(𝕒𝕗.Dp)])\n",
    "df2 = DataFrame(Dp = 𝕒𝕗.Dp, S = afmodel, Dist = [\"𝕒𝕗 (model)\" for i = 1:length(𝕒𝕗.Dp)])\n",
    "df = [df1; df2]\n",
    "\n",
    "xlabels = log10.([10, 100, 500])\n",
    "plot(\n",
    "    df,\n",
    "    x = :Dp,\n",
    "    y = :S,\n",
    "    color = :Dist,\n",
    "    Geom.step,\n",
    "    Guide.xlabel(\"Apparent +1 Mobility Diameter (nm)\"),\n",
    "    Guide.ylabel(\"Fraction (-)\"),\n",
    "    Guide.title(\"Activated Fraction\"),\n",
    "    Guide.colorkey(; title = \"\"),\n",
    "    Guide.xticks(ticks = log10.([10, 20, 30, 40, 50, 60, 70, 80, 90, 100, 200, 300, 400, 500])),\n",
    "    Guide.yticks(ticks = collect(0:0.2:1.2)),\n",
    "    Scale.x_log10(labels = x -> x in xlabels ? @sprintf(\"%2i\", exp10(x)) : \"\"),\n",
    "    Scale.color_discrete_manual([\"black\",\"darkgoldenrod\"]...),\n",
    "    Coord.cartesian(xmin = log10(10), xmax = log10(500), ymin = 0, ymax = 1.2),\n",
    ")"
   ]
  }
 ],
 "metadata": {
  "@webio": {
   "lastCommId": null,
   "lastKernelId": null
  },
  "kernelspec": {
   "display_name": "Julia 1.4.2",
   "language": "julia",
   "name": "julia-1.4"
  },
  "language_info": {
   "file_extension": ".jl",
   "mimetype": "application/julia",
   "name": "julia",
   "version": "1.4.2"
  }
 },
 "nbformat": 4,
 "nbformat_minor": 4
}
